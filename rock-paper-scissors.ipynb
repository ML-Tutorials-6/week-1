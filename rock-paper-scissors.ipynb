{
 "cells": [
  {
   "cell_type": "markdown",
   "id": "969ca5d8",
   "metadata": {},
   "source": [
    "### Create variables for your rock paper scissors game!"
   ]
  },
  {
   "cell_type": "code",
   "execution_count": null,
   "id": "ffd967e5",
   "metadata": {},
   "outputs": [],
   "source": [
    "# How do you create a user_score and bot_score variable that starts at 0?\n",
    "\n",
    "print(f\"user_score: {user_score}\")\n",
    "print(f\"bot_score: {bot_score}\")\n",
    "\n",
    "# How do you make a list of all choices in rock paper scissors?\n",
    "\n",
    "print(choices)"
   ]
  },
  {
   "cell_type": "markdown",
   "id": "dd3b4ab0",
   "metadata": {},
   "source": [
    "### Construct the if-else branches for rock paper scissors!"
   ]
  },
  {
   "cell_type": "code",
   "execution_count": null,
   "id": "6b376265",
   "metadata": {},
   "outputs": [],
   "source": [
    "user_score = 0\n",
    "bot_score = 0\n",
    "\n",
    "# Once done, change values and test the validity of each boolean statement\n",
    "user_choice = \"rock\"\n",
    "bot_choice = \"scissors\"\n",
    "\n",
    "# boolean statement 1: What are all possible scenarios where you win?\n",
    "  # what action should happen?\n",
    "# Boolean statement 2: When noone wins\n",
    "  # Should any action be done?\n",
    "# Boolean statement 3: All possible scenarios where the bot wins, but without repeating boolean statement 1.\n",
    "  # what action should happen?"
   ]
  },
  {
   "cell_type": "markdown",
   "id": "63b05a12",
   "metadata": {},
   "source": [
    "# Construct a best of 5 while loop"
   ]
  },
  {
   "cell_type": "code",
   "execution_count": null,
   "id": "44ef0750",
   "metadata": {},
   "outputs": [],
   "source": [
    "user_score = 0\n",
    "bot_score = 0\n",
    "\n",
    "# while {boolean_statement}\n",
    "  user_score += 1 # should have the same result for bot_score!"
   ]
  },
  {
   "cell_type": "markdown",
   "id": "c76ab1c2",
   "metadata": {},
   "source": [
    "# Code that allows the user to input answers via the terminal"
   ]
  },
  {
   "cell_type": "code",
   "execution_count": null,
   "id": "1eabf267",
   "metadata": {},
   "outputs": [],
   "source": [
    "# COMPLETE THE WHILE LOOP TO RUN THIS\n",
    "\n",
    "import random\n",
    "\n",
    "user_score = 0\n",
    "bot_score = 0\n",
    "\n",
    "choices = [\"rock\", \"paper\", \"scissors\"]\n",
    "\n",
    "while #{boolean statement}:\n",
    "    ### input is the built-in function for users to input strings. Do you know why we used .lower() on the input?\n",
    "    user_choice = input(\"Enter your choice (rock, paper, scissors): \").lower()\n",
    "    if user_choice not in choices:\n",
    "        print(\"Invalid choice. Please try again.\")\n",
    "        continue # skips rest of code to the next loop\n",
    "\n",
    "    bot_choice = random.choice(choices)\n",
    "\n",
    "    # IF-ELSE BRANCH"
   ]
  },
  {
   "cell_type": "markdown",
   "id": "1b6cf3ba",
   "metadata": {},
   "source": [
    "### Using the random library to have a bot simulate choices"
   ]
  },
  {
   "cell_type": "code",
   "execution_count": 55,
   "id": "090c04a2",
   "metadata": {},
   "outputs": [
    {
     "name": "stdout",
     "output_type": "stream",
     "text": [
      "Bot chose scissors\n"
     ]
    }
   ],
   "source": [
    "import random\n",
    "\n",
    "choices = [\"rock\", \"paper\", \"scissors\"]\n",
    "\n",
    "bot_choice = random.choice(choices)\n",
    "print(f\"Bot chose {bot_choice}\")"
   ]
  },
  {
   "cell_type": "markdown",
   "id": "91dd4990",
   "metadata": {},
   "source": [
    "### NOW CONSTRUCT ALL THE CODE!"
   ]
  },
  {
   "cell_type": "code",
   "execution_count": null,
   "id": "38cdc04b",
   "metadata": {},
   "outputs": [],
   "source": [
    "# Make the complete rock paper scissors program here! "
   ]
  },
  {
   "cell_type": "markdown",
   "id": "6b8b2fd8",
   "metadata": {},
   "source": [
    "# SOLUTION\n",
    "\n",
    "\n",
    "SPOILER WARNING SPOILER WARNING SPOILER WARNING SPOILER WARNING SPOILER WARNING SPOILER WARNING SPOILER WARNING SPOILER WARNING SPOILER WARNING SPOILER WARNING SPOILER WARNING SPOILER WARNING SPOILER WARNING SPOILER WARNING SPOILER WARNING SPOILER WARNING SPOILER WARNING SPOILER WARNING SPOILER WARNING SPOILER WARNING SPOILER WARNING SPOILER WARNING SPOILER WARNING SPOILER WARNING SPOILER WARNING SPOILER WARNING SPOILER WARNING SPOILER WARNING SPOILER WARNING SPOILER WARNING SPOILER WARNING SPOILER WARNING SPOILER WARNING SPOILER WARNING SPOILER WARNING SPOILER WARNING SPOILER WARNING SPOILER WARNING SPOILER WARNING SPOILER WARNING SPOILER WARNING SPOILER WARNING SPOILER WARNING SPOILER WARNING SPOILER WARNING SPOILER WARNINGSPOILER WARNING SPOILER WARNING SPOILER WARNING SPOILER WARNING SPOILER WARNING SPOILER WARNING SPOILER WARNING SPOILER WARNING SPOILER WARNING SPOILER WARNING SPOILER WARNING SPOILER WARNING SPOILER WARNING SPOILER WARNING SPOILER WARNING SPOILER WARNING SPOILER WARNING SPOILER WARNING SPOILER WARNING SPOILER WARNING SPOILER WARNING SPOILER WARNING SPOILER WARNING SPOILER WARNING\n",
    "SPOILER WARNING SPOILER WARNING SPOILER WARNING SPOILER WARNING SPOILER WARNING SPOILER WARNING SPOILER WARNING SPOILER WARNING SPOILER WARNING SPOILER WARNING SPOILER WARNING SPOILER WARNING SPOILER WARNING SPOILER WARNING SPOILER WARNING SPOILER WARNING SPOILER WARNING SPOILER WARNING SPOILER WARNING SPOILER WARNING SPOILER WARNING SPOILER WARNING SPOILER WARNING SPOILER WARNING SPOILER WARNING SPOILER WARNING SPOILER WARNING SPOILER WARNING SPOILER WARNING SPOILER WARNING SPOILER WARNING SPOILER WARNING SPOILER WARNING SPOILER WARNING SPOILER WARNING SPOILER WARNING SPOILER WARNING SPOILER WARNING SPOILER WARNING SPOILER WARNING SPOILER WARNING SPOILER WARNING SPOILER WARNING SPOILER WARNING SPOILER WARNING SPOILER WARNINGSPOILER WARNING SPOILER WARNING SPOILER WARNING SPOILER WARNING SPOILER WARNING SPOILER WARNING SPOILER WARNING SPOILER WARNING SPOILER WARNING SPOILER WARNING SPOILER WARNING SPOILER WARNING SPOILER WARNING SPOILER WARNING SPOILER WARNING SPOILER WARNING SPOILER WARNING SPOILER WARNING SPOILER WARNING SPOILER WARNING SPOILER WARNING SPOILER WARNING SPOILER WARNING SPOILER WARNING\n",
    "SPOILER WARNING SPOILER WARNING SPOILER WARNING SPOILER WARNING SPOILER WARNING SPOILER WARNING SPOILER WARNING SPOILER WARNING SPOILER WARNING SPOILER WARNING SPOILER WARNING SPOILER WARNING SPOILER WARNING SPOILER WARNING SPOILER WARNING SPOILER WARNING SPOILER WARNING SPOILER WARNING SPOILER WARNING SPOILER WARNING SPOILER WARNING SPOILER WARNING SPOILER WARNING SPOILER WARNING SPOILER WARNING SPOILER WARNING SPOILER WARNING SPOILER WARNING SPOILER WARNING SPOILER WARNING SPOILER WARNING SPOILER WARNING SPOILER WARNING SPOILER WARNING SPOILER WARNING SPOILER WARNING SPOILER WARNING SPOILER WARNING SPOILER WARNING SPOILER WARNING SPOILER WARNING SPOILER WARNING SPOILER WARNING SPOILER WARNING SPOILER WARNING SPOILER WARNINGSPOILER WARNING SPOILER WARNING SPOILER WARNING SPOILER WARNING SPOILER WARNING SPOILER WARNING SPOILER WARNING SPOILER WARNING SPOILER WARNING SPOILER WARNING SPOILER WARNING SPOILER WARNING SPOILER WARNING SPOILER WARNING SPOILER WARNING SPOILER WARNING SPOILER WARNING SPOILER WARNING SPOILER WARNING SPOILER WARNING SPOILER WARNING SPOILER WARNING SPOILER WARNING SPOILER WARNING\n",
    "SPOILER WARNING SPOILER WARNING SPOILER WARNING SPOILER WARNING SPOILER WARNING SPOILER WARNING SPOILER WARNING SPOILER WARNING SPOILER WARNING SPOILER WARNING SPOILER WARNING SPOILER WARNING SPOILER WARNING SPOILER WARNING SPOILER WARNING SPOILER WARNING SPOILER WARNING SPOILER WARNING SPOILER WARNING SPOILER WARNING SPOILER WARNING SPOILER WARNING SPOILER WARNING SPOILER WARNING SPOILER WARNING SPOILER WARNING SPOILER WARNING SPOILER WARNING SPOILER WARNING SPOILER WARNING SPOILER WARNING SPOILER WARNING SPOILER WARNING SPOILER WARNING SPOILER WARNING SPOILER WARNING SPOILER WARNING SPOILER WARNING SPOILER WARNING SPOILER WARNING SPOILER WARNING SPOILER WARNING SPOILER WARNING SPOILER WARNING SPOILER WARNING SPOILER WARNINGSPOILER WARNING SPOILER WARNING SPOILER WARNING SPOILER WARNING SPOILER WARNING SPOILER WARNING SPOILER WARNING SPOILER WARNING SPOILER WARNING SPOILER WARNING SPOILER WARNING SPOILER WARNING SPOILER WARNING SPOILER WARNING SPOILER WARNING SPOILER WARNING SPOILER WARNING SPOILER WARNING SPOILER WARNING SPOILER WARNING SPOILER WARNING SPOILER WARNING SPOILER WARNING SPOILER WARNING\n",
    "SPOILER WARNING SPOILER WARNING SPOILER WARNING SPOILER WARNING SPOILER WARNING SPOILER WARNING SPOILER WARNING SPOILER WARNING SPOILER WARNING SPOILER WARNING SPOILER WARNING SPOILER WARNING SPOILER WARNING SPOILER WARNING SPOILER WARNING SPOILER WARNING SPOILER WARNING SPOILER WARNING SPOILER WARNING SPOILER WARNING SPOILER WARNING SPOILER WARNING SPOILER WARNING SPOILER WARNING SPOILER WARNING SPOILER WARNING SPOILER WARNING SPOILER WARNING SPOILER WARNING SPOILER WARNING SPOILER WARNING SPOILER WARNING SPOILER WARNING SPOILER WARNING SPOILER WARNING SPOILER WARNING SPOILER WARNING SPOILER WARNING SPOILER WARNING SPOILER WARNING SPOILER WARNING SPOILER WARNING SPOILER WARNING SPOILER WARNING SPOILER WARNING SPOILER WARNINGSPOILER WARNING SPOILER WARNING SPOILER WARNING SPOILER WARNING SPOILER WARNING SPOILER WARNING SPOILER WARNING SPOILER WARNING SPOILER WARNING SPOILER WARNING SPOILER WARNING SPOILER WARNING SPOILER WARNING SPOILER WARNING SPOILER WARNING SPOILER WARNING SPOILER WARNING SPOILER WARNING SPOILER WARNING SPOILER WARNING SPOILER WARNING SPOILER WARNING SPOILER WARNING SPOILER WARNING\n",
    "SPOILER WARNING SPOILER WARNING SPOILER WARNING SPOILER WARNING SPOILER WARNING SPOILER WARNING SPOILER WARNING SPOILER WARNING SPOILER WARNING SPOILER WARNING SPOILER WARNING SPOILER WARNING SPOILER WARNING SPOILER WARNING SPOILER WARNING SPOILER WARNING SPOILER WARNING SPOILER WARNING SPOILER WARNING SPOILER WARNING SPOILER WARNING SPOILER WARNING SPOILER WARNING SPOILER WARNING SPOILER WARNING SPOILER WARNING SPOILER WARNING SPOILER WARNING SPOILER WARNING SPOILER WARNING SPOILER WARNING SPOILER WARNING SPOILER WARNING SPOILER WARNING SPOILER WARNING SPOILER WARNING SPOILER WARNING SPOILER WARNING SPOILER WARNING SPOILER WARNING SPOILER WARNING SPOILER WARNING SPOILER WARNING SPOILER WARNING SPOILER WARNING SPOILER WARNINGSPOILER WARNING SPOILER WARNING SPOILER WARNING SPOILER WARNING SPOILER WARNING SPOILER WARNING SPOILER WARNING SPOILER WARNING SPOILER WARNING SPOILER WARNING SPOILER WARNING SPOILER WARNING SPOILER WARNING SPOILER WARNING SPOILER WARNING SPOILER WARNING SPOILER WARNING SPOILER WARNING SPOILER WARNING SPOILER WARNING SPOILER WARNING SPOILER WARNING SPOILER WARNING SPOILER WARNING\n",
    "\n",
    "\n",
    "\n"
   ]
  },
  {
   "cell_type": "code",
   "execution_count": null,
   "id": "75515b5d",
   "metadata": {},
   "outputs": [],
   "source": [
    "import random\n",
    "\n",
    "choices = [\"rock\", \"paper\", \"scissors\"]\n",
    "\n",
    "user_score = 0\n",
    "bot_score = 0\n",
    "\n",
    "# Best of 5\n",
    "while user_score < 3 and bot_score < 3:\n",
    "    user_choice = input(\"Enter your choice (rock, paper, scissors): \").lower()\n",
    "    if user_choice not in choices:\n",
    "        print(\"Invalid choice. Please try again.\")\n",
    "        continue\n",
    "    bot_choice = random.choice(choices)\n",
    "    print(f\"You chose {user_choice}, bot chose {bot_choice}\")\n",
    "    if user_choice == bot_choice:\n",
    "        print(\"It's a tie!\")\n",
    "    elif (user_choice == \"rock\" and bot_choice == \"scissors\") or \\\n",
    "        (user_choice == \"scissors\" and bot_choice == \"paper\") or \\\n",
    "            (user_choice == \"paper\" and bot_choice == \"rock\"):\n",
    "        print(\"You win!\")\n",
    "        user_score += 1\n",
    "    else:\n",
    "        print(\"You lose!\")\n",
    "        bot_score += 1\n",
    "print(f\"Final score: You {user_score} - {bot_score} Bot\")"
   ]
  }
 ],
 "metadata": {
  "kernelspec": {
   "display_name": "Python 3",
   "language": "python",
   "name": "python3"
  },
  "language_info": {
   "codemirror_mode": {
    "name": "ipython",
    "version": 3
   },
   "file_extension": ".py",
   "mimetype": "text/x-python",
   "name": "python",
   "nbconvert_exporter": "python",
   "pygments_lexer": "ipython3",
   "version": "3.11.9"
  }
 },
 "nbformat": 4,
 "nbformat_minor": 5
}
