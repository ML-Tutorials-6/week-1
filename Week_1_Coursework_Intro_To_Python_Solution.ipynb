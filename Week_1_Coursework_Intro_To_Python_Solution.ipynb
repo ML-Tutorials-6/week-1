{
  "nbformat": 4,
  "nbformat_minor": 0,
  "metadata": {
    "colab": {
      "provenance": []
    },
    "kernelspec": {
      "name": "python3",
      "display_name": "Python 3"
    },
    "language_info": {
      "name": "python"
    }
  },
  "cells": [
    {
      "cell_type": "markdown",
      "source": [
        "# UCLAI: Introduction To Python - Coursework\n",
        "\n",
        "\n"
      ],
      "metadata": {
        "id": "1OU4c3aeCJHY"
      }
    },
    {
      "cell_type": "markdown",
      "metadata": {
        "id": "4cbb7b27"
      },
      "source": [
        "## Part 1: Data Generation and Plotting\n",
        "\n",
        "In this part, you will practice using **variables**, **functions**, and **importing libraries** to generate and plot some data. This will be a simple dataset for linear regression, which we will study next week.\n",
        "\n",
        "First, let's refresh our understanding of **variables**. Variables are used to store data values. You can think of them as named containers for information."
      ]
    },
    {
      "cell_type": "code",
      "metadata": {
        "id": "6cc6ba34"
      },
      "source": [
        "# Let's define some variables for our data generation\n",
        "slope = 4\n",
        "intercept = -2\n",
        "std = 10\n",
        "n = 50\n",
        "\n",
        "# We also need to import the numpy library to work with arrays and random numbers.\n",
        "# We use the 'import' keyword followed by the library name.\n",
        "# We can also give it a shorter alias using 'as'.\n",
        "import numpy as np\n",
        "\n",
        "# You will need to import matplotlib, a library for plotting in python.\n",
        "import matplotlib.pyplot as plt"
      ],
      "execution_count": null,
      "outputs": []
    },
    {
      "cell_type": "markdown",
      "metadata": {
        "id": "049bbe4f"
      },
      "source": [
        "You will implement two functions: `generate_data` and `plot_data`.\n",
        "\n",
        "The `generate_data` function should take the number of data points `n`, a `slope`, an `intercept`, and a `std` as input, and return a generated `x` and `y` arrays. The `x` array should consist of uniformly distributed random points from (-10, 10). The `y` array should be such that each element $y$ in the array follows a linear relationship with respect to $x$, with some error.\n",
        "\n",
        "The relationship between $x$ and $y$ is defined by the equation:\n",
        "\n",
        "\\begin{align*} y = mx + b + \\epsilon \\end{align*}\n",
        "\n",
        "Where:\n",
        "- $m$ is the `slope`, which determines how much $y$ changes for a unit change in $x$.\n",
        "- $b$ is the `intercept`, which is the value of $y$ when $x$ is 0.\n",
        "- $\\epsilon$ follows a **normal** distribution over (0, `std`).\n",
        "- $x$ follows a **uniform** distribution over (-10, 10).\n",
        "\n",
        "$\\epsilon$ represents the error term. In real-world data, observations rarely fall perfectly on a straight line due to various factors like measurement errors or unmodeled influences. This error term accounts for that variability. $\\epsilon$ is a normally distributed error, meaning the errors are centered around zero and most errors are small, with larger errors being less frequent. The standard deviation `std` parameter controls the spread of this error; a higher standard deviation means the errors are more spread out, leading to more scattered data points around the line.\n",
        "\n",
        "You will need to look into numpy's random number generated error:\n",
        "https://numpy.org/doc/2.2/reference/random/generator.html\n",
        "\n",
        "The `plot_data` function should take the `x` and `y` arrays as input and plot them using the `matplotlib` library. You will need to research how to use `matplotlib` for plotting.\n",
        "\n",
        "You will need to look into matplotlib.pyplot.plot:\n",
        "https://matplotlib.org/stable/api/_as_gen/matplotlib.pyplot.plot.html"
      ]
    },
    {
      "cell_type": "code",
      "metadata": {
        "colab": {
          "base_uri": "https://localhost:8080/",
          "height": 430
        },
        "id": "134b1044",
        "outputId": "ac39b59b-4679-4443-8a34-cc18d53692ee"
      },
      "source": [
        "def generate_data(n, slope, intercept, std):\n",
        "  x = np.random.uniform(-10, 10, n)\n",
        "  error = np.random.normal(0, std, n)\n",
        "  y = slope * x * x + intercept + error\n",
        "  return x, y\n",
        "\n",
        "def plot_data(x,y):\n",
        "  plt.scatter(x, y)\n",
        "  plt.show()\n",
        "\n",
        "# Now, let's use our functions to generate and plot data\n",
        "x_generated, y_generated = generate_data(n, slope, intercept, std)\n",
        "plot_data(x_generated, y_generated)"
      ],
      "execution_count": null,
      "outputs": [
        {
          "output_type": "display_data",
          "data": {
            "text/plain": [
              "<Figure size 640x480 with 1 Axes>"
            ],
            "image/png": "[encoded data removed]"
          },
          "metadata": {}
        }
      ]
    },
    {
      "cell_type": "markdown",
      "metadata": {
        "id": "80b3a4f9"
      },
      "source": [
        "### Follow-ups:\n",
        "\n",
        "1. Experiment with different values for `slope`, `intercept`, and `variance` in the `generate_data` function. How do these changes affect the generated data and the plot?\n",
        "2. Modify the `generate_data` function to generate data based on a different relationship, for example, $y = 2\\pi \\sin(x) + \\text{error}$. You might need to research trigonometric functions in `numpy`.\n",
        "3. Research other plotting options in `matplotlib`. Can you add labels to the axes or a title to the plot?"
      ]
    },
    {
      "cell_type": "markdown",
      "metadata": {
        "id": "23edc4f7"
      },
      "source": [
        "## Part 2: Dice Roll Simulation\n",
        "\n",
        "In this part, you will use **for loops** to simulate rolling a dice multiple times and calculate the average result. This will give you a practical understanding of how to repeat actions in Python and explore concepts related to probability.\n",
        "\n",
        "First, let's briefly revisit **for loops**. A `for` loop is used for iterating over a sequence (like a list or a range of numbers). It allows you to execute a block of code repeatedly for each item in the sequence.\n",
        "\n",
        "You will create a function called `simulate_dice_rolls` that takes the number of rolls (`n`) as input and returns the average result of these rolls."
      ]
    },
    {
      "cell_type": "code",
      "metadata": {
        "id": "f61f1060",
        "colab": {
          "base_uri": "https://localhost:8080/"
        },
        "outputId": "6c844d4e-9925-48cd-8724-034641767332"
      },
      "source": [
        "import random\n",
        "\n",
        "def simulate_dice_rolls(n, num_dice=1):\n",
        "  results = []\n",
        "  for _ in range(n):\n",
        "    roll_sum = 0\n",
        "    for _ in range(num_dice):\n",
        "      roll_sum += random.randint(1, 6)\n",
        "    results.append(roll_sum)\n",
        "  return sum(results) / n\n",
        "\n",
        "# Let's test our function\n",
        "average_roll = simulate_dice_rolls(10)\n",
        "print(f\"The average result of 10 rolls is: {average_roll}\")"
      ],
      "execution_count": null,
      "outputs": [
        {
          "output_type": "stream",
          "name": "stdout",
          "text": [
            "The average result of 10 rolls is: 3.9\n"
          ]
        }
      ]
    },
    {
      "cell_type": "markdown",
      "metadata": {
        "id": "545e8182"
      },
      "source": [
        "### Follow-up Questions and Exercises:\n",
        "\n",
        "1. Call the `simulate_dice_rolls` function with different values for `n` (e.g., 1, 5, 10, 200, 1000). What do you observe about the average result as `n` increases? Does it approach a specific value? What do you expect the average result of many dice rolls to be?\n",
        "2. How could you modify the function to simulate rolling two dice and returning the average of their sum? How about three dice?\n",
        "3. (Optional) Can you analytically calculate the expected average result of rolling one die? Does it match the result you observed in your simulations, especially for large values of `n`? This is related to the **Law of Large Numbers**.\n",
        "4. (Optional) Can you plot the average result against the number of rolls (`n`) to visualize how the average converges as `n` increases? You might want to use a list to store the averages for different `n` values and then use `matplotlib` to plot."
      ]
    },
    {
      "cell_type": "code",
      "source": [
        "# Follow-up 1: Call the simulate_dice_rolls function with different values for n\n",
        "\n",
        "print(\"Observing the average result as n increases:\")\n",
        "n_values = [1, 5, 10, 200, 1000]\n",
        "for n_val in n_values:\n",
        "  avg = simulate_dice_rolls(n_val)\n",
        "  print(f\"The average result of {n_val} rolls (1 die) is: {avg}\")"
      ],
      "metadata": {
        "colab": {
          "base_uri": "https://localhost:8080/"
        },
        "id": "bodVLussPfKl",
        "outputId": "3955665d-b02a-4f84-d593-82bc42a6893a"
      },
      "execution_count": null,
      "outputs": [
        {
          "output_type": "stream",
          "name": "stdout",
          "text": [
            "Observing the average result as n increases:\n",
            "The average result of 1 rolls (1 die) is: 1.0\n",
            "The average result of 5 rolls (1 die) is: 3.6\n",
            "The average result of 10 rolls (1 die) is: 2.8\n",
            "The average result of 200 rolls (1 die) is: 3.435\n",
            "The average result of 1000 rolls (1 die) is: 3.637\n"
          ]
        }
      ]
    },
    {
      "cell_type": "code",
      "source": [
        "# Follow-up 2: Modify the function to simulate rolling two and three dice\n",
        "\n",
        "print(\"Simulating rolling two and three dice:\")\n",
        "average_two_dice = simulate_dice_rolls(1000, num_dice=2)\n",
        "print(f\"The average result of 1000 rolls (2 dice) is: {average_two_dice}\")\n",
        "\n",
        "average_three_dice = simulate_dice_rolls(1000, num_dice=3)\n",
        "print(f\"The average result of 1000 rolls (3 dice) is: {average_three_dice}\")"
      ],
      "metadata": {
        "colab": {
          "base_uri": "https://localhost:8080/"
        },
        "id": "OqJiDGbrQBPJ",
        "outputId": "2ec8f559-1b9a-49d4-b9af-2f50f741655a"
      },
      "execution_count": null,
      "outputs": [
        {
          "output_type": "stream",
          "name": "stdout",
          "text": [
            "Simulating rolling two and three dice:\n",
            "The average result of 1000 rolls (2 dice) is: 6.975\n",
            "The average result of 1000 rolls (3 dice) is: 10.378\n"
          ]
        }
      ]
    },
    {
      "cell_type": "markdown",
      "metadata": {
        "id": "b5505cac"
      },
      "source": [
        "**Follow-up 3 (Optional): Analytical Calculation and the Law of Large Numbers**\n",
        "\n",
        "The expected average result of rolling a fair six-sided die can be calculated analytically. The possible outcomes are 1, 2, 3, 4, 5, and 6, each with a probability of 1/6. The expected value (average) is the sum of each outcome multiplied by its probability:\n",
        "\n",
        "Expected Value = (1 * 1/6) + (2 * 1/6) + (3 * 1/6) + (4 * 1/6) + (5 * 1/6) + (6 * 1/6)\n",
        "Expected Value = (1 + 2 + 3 + 4 + 5 + 6) / 6\n",
        "Expected Value = 21 / 6\n",
        "Expected Value = 3.5\n",
        "\n",
        "The **Law of Large Numbers** states that as the number of trials (dice rolls in this case) increases, the average of the results obtained from a large number of independent random variables will converge to the expected value. This means that as you increase the number of dice rolls (`n`) in your simulation, the average result you observe should get closer and closer to the analytically calculated expected value of 3.5. Your simulation results, especially for larger values of `n`, should demonstrate this convergence."
      ]
    },
    {
      "cell_type": "code",
      "source": [
        "# Follow-up 4 (Optional): Plot the average result against the number of rolls (for 1 die)\n",
        "\n",
        "print(\"\\nPlotting the average result against the number of rolls:\")\n",
        "n_values_plot = range(1, 1001)\n",
        "average_results_plot = [simulate_dice_rolls(n_val) for n_val in n_values_plot]\n",
        "\n",
        "plt.plot(n_values_plot, average_results_plot)\n",
        "plt.xlabel(\"Number of Rolls (n)\")\n",
        "plt.ylabel(\"Average Result\")\n",
        "plt.title(\"Convergence of Average Dice Roll (1 die)\")\n",
        "plt.grid(True)\n",
        "plt.show()"
      ],
      "metadata": {
        "colab": {
          "base_uri": "https://localhost:8080/",
          "height": 507
        },
        "id": "hURwORHtQFC-",
        "outputId": "6ea59190-9c51-44f6-bb0d-735eff012251"
      },
      "execution_count": null,
      "outputs": [
        {
          "output_type": "stream",
          "name": "stdout",
          "text": [
            "\n",
            "Plotting the average result against the number of rolls:\n"
          ]
        },
        {
          "output_type": "display_data",
          "data": {
            "text/plain": [
              "<Figure size 640x480 with 1 Axes>"
            ],
            "image/png": "[encoded data removed]"
          },
          "metadata": {}
        }
      ]
    },
    {
      "cell_type": "markdown",
      "metadata": {
        "id": "752fe4ab"
      },
      "source": [
        "## Part 3: Word Guessing Game\n",
        "\n",
        "For the last part of this coursework, you will create a command-line word guessing game. This project will allow you to consolidate your understanding of **loops** (both `for` and `while`), **conditional statements** (`if`, `elif`, `else`), and working with **strings** and **lists**.\n",
        "\n",
        "The goal is to create an interactive game where the user tries to guess a hidden word letter by letter within a limited number of attempts. We have provided a code skeleton below to help you get started. Your task is to complete the game logic within the `word_guessing_game` function. Pay close attention to the `TODO` comments, which outline the specific steps you need to implement."
      ]
    },
    {
      "cell_type": "code",
      "metadata": {
        "id": "977958bc"
      },
      "source": [
        "import random\n",
        "\n",
        "def select_random_word():\n",
        "  \"\"\"Returns a random word from the English dictionary.\"\"\"\n",
        "  english_words = [\"python\", \"orange\", \"machine\"]\n",
        "  return random.choice(english_words).lower()\n",
        "\n",
        "def display_word_progress(word, guessed_letters):\n",
        "  \"\"\"Displays the word with underscores for unguessed letters.\"\"\"\n",
        "  display = \"\"\n",
        "  for letter in word:\n",
        "    if letter in guessed_letters:\n",
        "      display += letter\n",
        "    else:\n",
        "      display += \"_ \"\n",
        "  return display\n",
        "\n",
        "def word_guessing_game():\n",
        "  \"\"\"Implements the main logic of the word guessing game.\"\"\"\n",
        "  word_to_guess = select_random_word()\n",
        "  guessed_letters = []\n",
        "  attempts = 10\n",
        "\n",
        "  print(\"Welcome to the Word Guessing Game!\")\n",
        "  print(display_word_progress(word_to_guess, guessed_letters))\n",
        "\n",
        "  while attempts > 0:\n",
        "    guess = input(\"Guess a letter: \").lower()\n",
        "\n",
        "    # 1. Validate the input: Check if it's a single letter and if it has not already been guessed.\n",
        "    if len(guess) != 1 or not guess.isalpha():\n",
        "      print(\"Invalid input. Please enter a single letter.\")\n",
        "    elif guess in guessed_letters:\n",
        "      print(f\"You already guessed the letter '{guess}'.\")\n",
        "    else:\n",
        "      # 2. Add the valid guessed letter to the 'guessed_letters' list.\n",
        "      guessed_letters.append(guess)\n",
        "\n",
        "      # 3. Check if the guessed letter is in the 'word_to_guess'.\n",
        "      if guess in word_to_guess:\n",
        "        print(f\"Good guess! '{guess}' is in the word.\")\n",
        "      else:\n",
        "        # 4. If the letter is NOT in the word, decrement the 'attempts' counter.\n",
        "        attempts -= 1\n",
        "        print(f\"Incorrect guess! '{guess}' is not in the word. You have {attempts} attempts left.\")\n",
        "\n",
        "      # 5. Display the current progress of the word using 'display_word_progress'.\n",
        "      current_progress = display_word_progress(word_to_guess, guessed_letters)\n",
        "      print(current_progress)\n",
        "\n",
        "      # 6. Check for winning condition: If the displayed word progress no longer contains underscores,\n",
        "      #    the player has won. Print a congratulatory message and break the loop.\n",
        "      if \"_\" not in current_progress:\n",
        "        print(\"\\nCongratulations! You guessed the word correctly!\")\n",
        "        break\n",
        "\n",
        "  # 7. Check for losing condition: If 'attempts' reaches 0, the player has lost.\n",
        "  #    Print a losing message and reveal the word.\n",
        "  if attempts == 0:\n",
        "    print(\"\\nGame over! You ran out of attempts.\")\n",
        "    print(f\"The word was: {word_to_guess}\")\n",
        "\n",
        "# Start the game\n",
        "word_guessing_game()"
      ],
      "execution_count": null,
      "outputs": []
    }
  ]
}